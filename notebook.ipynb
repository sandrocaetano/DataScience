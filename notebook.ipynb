{
  "nbformat": 4,
  "nbformat_minor": 0,
  "metadata": {
    "colab": {
      "provenance": [],
      "toc_visible": true,
      "include_colab_link": true
    },
    "kernelspec": {
      "name": "python3",
      "display_name": "Python 3"
    }
  },
  "cells": [
    {
      "cell_type": "markdown",
      "metadata": {
        "id": "view-in-github",
        "colab_type": "text"
      },
      "source": [
        "<a href=\"https://colab.research.google.com/github/sandrocaetano/DataScience/blob/main/notebook.ipynb\" target=\"_parent\"><img src=\"https://colab.research.google.com/assets/colab-badge.svg\" alt=\"Open In Colab\"/></a>"
      ]
    },
    {
      "cell_type": "markdown",
      "metadata": {
        "id": "KJqp9AANOCtf"
      },
      "source": [
        "<img src=\"https://raw.githubusercontent.com/andre-marcos-perez/ebac-course-utils/main/media/logo/newebac_logo_black_half.png\" alt=\"ebac-logo\">\n",
        "\n",
        "---\n",
        "\n",
        "# **Aula** | Análise Exploratória de Dados com Python: Eleições de 2022\n",
        "Professor [André Perez](https://www.linkedin.com/in/andremarcosperez/)<br>\n",
        "01/12/2022\n",
        "\n",
        "---"
      ]
    },
    {
      "cell_type": "markdown",
      "metadata": {
        "id": "d9jDtUbDOE1-"
      },
      "source": [
        "# **Tópicos**\n",
        "\n",
        "<ol type=\"1\">\n",
        "  <li>Introdução;</li>\n",
        "  <li>Exploração;</li>\n",
        "  <li>Processamento;</li>\n",
        "  <li>Visualização;</li>\n",
        "  <li>Divulgação.</li>\n",
        "</ol>"
      ]
    },
    {
      "cell_type": "markdown",
      "metadata": {
        "id": "SmoHgt-lwkpD"
      },
      "source": [
        "---"
      ]
    },
    {
      "cell_type": "markdown",
      "metadata": {
        "id": "GABI6OW8OfQ2"
      },
      "source": [
        "# **Aulas**"
      ]
    },
    {
      "cell_type": "markdown",
      "source": [
        "## 1\\. Introdução"
      ],
      "metadata": {
        "id": "-Rig-cljwJdi"
      }
    },
    {
      "cell_type": "markdown",
      "source": [
        "Nesta aula, vamos entender o contexto de negócio que estamos inseridos e aprender a utilizar o Google Colab."
      ],
      "metadata": {
        "id": "lNGqwyhiE1vq"
      }
    },
    {
      "cell_type": "markdown",
      "source": [
        "### **1.1. Contexto** "
      ],
      "metadata": {
        "id": "Ay4UkojwGskg"
      }
    },
    {
      "cell_type": "markdown",
      "metadata": {
        "id": "JUonSt7kxZyj"
      },
      "source": [
        "O tribunal superior eleitoral (TSE) disponibilizou os dados brutos das urnas de votação utilizadas durante o processo eleitoral de 2022. No site do TSE ([link](https://resultados.tse.jus.br/oficial/app/index.html#/eleicao/resultados)) encontra-se os seguintes dados para cada urna:"
      ]
    },
    {
      "cell_type": "markdown",
      "source": [
        " - **Registro Digital do Voto (RDV)**: Registro unitário dos votos;\n",
        " - **Boletim de Urna**: Resultados agregados;\n",
        " - **Log de Urna**: Todos os eventos que ocorreram na urna."
      ],
      "metadata": {
        "id": "M5K99BBs9C1Q"
      }
    },
    {
      "cell_type": "markdown",
      "source": [
        "A documentação técnica para o processamento dos arquivo também se encontra no website do TSE ([link](https://www.tse.jus.br/eleicoes/eleicoes-2022/documentacao-tecnica-do-software-da-urna-eletronica))."
      ],
      "metadata": {
        "id": "KIzpIja__Xob"
      }
    },
    {
      "cell_type": "markdown",
      "source": [
        "> Para uma única urna (estado, cidade, zona e seção), vamos utilizar o **Python** para processar o seu arquivo **RDV** e replicar os valores agregados do seu **Boletim de Urna** para o segundo turno de votação para presidente do processo eleitoral de 2022."
      ],
      "metadata": {
        "id": "19a6O3YOhlmq"
      }
    },
    {
      "cell_type": "markdown",
      "metadata": {
        "id": "muD1vxozykSC"
      },
      "source": [
        "### **1.2. Google Colab**"
      ]
    },
    {
      "cell_type": "markdown",
      "metadata": {
        "id": "xT1ohV3t0FQJ"
      },
      "source": [
        "> Ferramenta web autogerênciada de cadernos (*notebooks*)."
      ]
    },
    {
      "cell_type": "markdown",
      "metadata": {
        "id": "5a3_syBIP6yO"
      },
      "source": [
        "**Ferramenta web**"
      ]
    },
    {
      "cell_type": "markdown",
      "metadata": {
        "id": "xF1tFQyRQag2"
      },
      "source": [
        "\n",
        "\n",
        "*   Crie uma conta Google em [gmail.com](https://gmail.com);\n",
        "*   Acesse o Google Colab através do endereço [colab.research.google.com](https://colab.research.google.com/).\n",
        "\n",
        "\n"
      ]
    },
    {
      "cell_type": "markdown",
      "metadata": {
        "id": "VkIgtLmhQRDV"
      },
      "source": [
        "**Autogerênciada** "
      ]
    },
    {
      "cell_type": "markdown",
      "metadata": {
        "id": "P14BSbuH0SQB"
      },
      "source": [
        "\n",
        "\n",
        "*   A Google provisiona uma máquina virtual para você;\n",
        "*   A máquina virtual dura no máximo 12h.\n",
        "\n"
      ]
    },
    {
      "cell_type": "markdown",
      "metadata": {
        "id": "mIgaH380QG2e"
      },
      "source": [
        "**Cadernos (*notebooks*)** "
      ]
    },
    {
      "cell_type": "markdown",
      "metadata": {
        "id": "_4Q4H0RKm-4G"
      },
      "source": [
        "Um **caderno** é um documento *web* composto por um conjunto de elementos (células) de texto e código:\n",
        "\n",
        "\n",
        "*   Células de **texto** podem ser editados com o editor da ferramenta, HTML ou Markdown; \n",
        "*   Células de **código** são exclusivamente para a linguagem de programação Python.\n",
        "\n"
      ]
    },
    {
      "cell_type": "code",
      "metadata": {
        "id": "ILZGen4Ob_vC"
      },
      "source": [
        "print(\"olá, mundo!\")"
      ],
      "execution_count": null,
      "outputs": []
    },
    {
      "cell_type": "markdown",
      "metadata": {
        "id": "EvJTE2FpaGeU"
      },
      "source": [
        "## 2\\. Exploração"
      ]
    },
    {
      "cell_type": "markdown",
      "metadata": {
        "id": "ISYXZbomlb1x"
      },
      "source": [
        "Nesta aula vamos explorar, limpar e extrair os votos do arquivo RDV."
      ]
    },
    {
      "cell_type": "markdown",
      "source": [
        "### **2.1. Upload** "
      ],
      "metadata": {
        "id": "DDpx-CqDoEMB"
      }
    },
    {
      "cell_type": "markdown",
      "source": [
        "No site de resultados do TSE ([link](https://resultados.tse.jus.br/oficial/app/index.html)), selecione os dados de uma única urna, faça o *download* do arquivo RDV e então, o seu *upload* no ambiente do Google Colab. "
      ],
      "metadata": {
        "id": "aY9hV7LkoEQv"
      }
    },
    {
      "cell_type": "markdown",
      "source": [
        "### **2.2. Descriptografia** "
      ],
      "metadata": {
        "id": "8lvsCpnSoR0k"
      }
    },
    {
      "cell_type": "markdown",
      "source": [
        "Vamos utilizar o código disponibilizado pelo próprio TSE ([link](https://www.tse.jus.br/eleicoes/eleicoes-2022/documentacao-tecnica-do-software-da-urna-eletronica)) para descriptografar o arquivo RDV em um arquivo de texto. O código foi replicado neste [link](https://raw.githubusercontent.com/andre-marcos-perez/ebac-course-utils/develop/notebooks/2022_11_29/rdv.py) para facilitar a sua integração com o Google Colab."
      ],
      "metadata": {
        "id": "ue3LBOvcap6Z"
      }
    },
    {
      "cell_type": "markdown",
      "source": [
        " - Faça o *download* do código de descriptografia."
      ],
      "metadata": {
        "id": "Y2XahMe2BMQM"
      }
    },
    {
      "cell_type": "code",
      "source": [
        "!curl -s https://raw.githubusercontent.com/andre-marcos-perez/ebac-course-utils/develop/notebooks/2022_11_29/rdv.py -o rdv.py"
      ],
      "metadata": {
        "id": "bamgYxoFYPjM"
      },
      "execution_count": null,
      "outputs": []
    },
    {
      "cell_type": "markdown",
      "source": [
        " - Instale o pacote de criptografia utilizado pelo código."
      ],
      "metadata": {
        "id": "UPbccDxhBXMo"
      }
    },
    {
      "cell_type": "code",
      "source": [
        "!pip install asn1crypto==1.5.1"
      ],
      "metadata": {
        "id": "EQew9bbvZ4L2"
      },
      "execution_count": null,
      "outputs": []
    },
    {
      "cell_type": "markdown",
      "source": [
        " - Substitua o texto `<NOME-DO-ARQUIVO-RDV>` pelo nome do arquivo RDV escolhido."
      ],
      "metadata": {
        "id": "DgdhKNTsA9dc"
      }
    },
    {
      "cell_type": "code",
      "source": [
        "!python rdv.py -r o00407-6875600930300.rdv > rdv.txt"
      ],
      "metadata": {
        "id": "xHTxWEvyNd0y"
      },
      "execution_count": null,
      "outputs": []
    },
    {
      "cell_type": "markdown",
      "source": [
        "### **2.3. Limpeza** "
      ],
      "metadata": {
        "id": "5OFA-fmBohlJ"
      }
    },
    {
      "cell_type": "markdown",
      "source": [
        "Na etapa de limpeza, vamos selecionar apenas as linhas do arquivo RDV referentes a votação para presidente."
      ],
      "metadata": {
        "id": "d4zw67ZOc-Cm"
      }
    },
    {
      "cell_type": "code",
      "source": [
        "content = []\n",
        "\n",
        "with open(file=\"rdv.txt\", mode=\"r\") as fp:\n",
        "  for line in fp.readlines():\n",
        "    if \"Governador\" in line:\n",
        "      break\n",
        "    else:\n",
        "      content.append(line) "
      ],
      "metadata": {
        "id": "TrBosvhCc-0W"
      },
      "execution_count": null,
      "outputs": []
    },
    {
      "cell_type": "code",
      "source": [
        "len(content)"
      ],
      "metadata": {
        "id": "HDTFc1M5grsT"
      },
      "execution_count": null,
      "outputs": []
    },
    {
      "cell_type": "code",
      "source": [
        "for line in content[0:10]:\n",
        "  print(line)"
      ],
      "metadata": {
        "id": "r0NNW-xhgjZ0"
      },
      "execution_count": null,
      "outputs": []
    },
    {
      "cell_type": "markdown",
      "source": [
        "### **2.4. Extração** "
      ],
      "metadata": {
        "id": "042WnMxQotAX"
      }
    },
    {
      "cell_type": "markdown",
      "source": [
        "Na etapa de extração, vamos extrair apenas os dados de votação."
      ],
      "metadata": {
        "id": "2QpIbXo6gkMY"
      }
    },
    {
      "cell_type": "code",
      "source": [
        "import re"
      ],
      "metadata": {
        "id": "OO99O3ubgh4J"
      },
      "execution_count": null,
      "outputs": []
    },
    {
      "cell_type": "code",
      "source": [
        "pattern = re.compile(pattern=\"\\[(.*?)\\]\")"
      ],
      "metadata": {
        "id": "jpUIsVTkg5U1"
      },
      "execution_count": null,
      "outputs": []
    },
    {
      "cell_type": "code",
      "source": [
        "votes = []\n",
        "\n",
        "for line in content:\n",
        "\n",
        "  if \"branco\" in line:\n",
        "\n",
        "    votes.append({\"voto\": \"branco\", \"quantidade\": 1})\n",
        "\n",
        "  if \"nulo\" in line:\n",
        "\n",
        "    votes.append({\"voto\": \"nulo\", \"quantidade\": 1})\n",
        "\n",
        "  if \"nominal\" in line:\n",
        "\n",
        "    vote = re.findall(pattern=pattern, string=line)[0]\n",
        "    votes.append({\"voto\": f\"{vote}\", \"quantidade\": 1})"
      ],
      "metadata": {
        "id": "3yLyf43df-x1"
      },
      "execution_count": null,
      "outputs": []
    },
    {
      "cell_type": "code",
      "source": [
        "len(votes)"
      ],
      "metadata": {
        "id": "XjXerw1QhhfK"
      },
      "execution_count": null,
      "outputs": []
    },
    {
      "cell_type": "code",
      "source": [
        "for vote in votes[0:10]:\n",
        "  print(vote)"
      ],
      "metadata": {
        "id": "-OaGwIXSjiBz"
      },
      "execution_count": null,
      "outputs": []
    },
    {
      "cell_type": "markdown",
      "source": [
        "## 3\\. Processamento"
      ],
      "metadata": {
        "id": "9Vc1xfxBnpal"
      }
    },
    {
      "cell_type": "markdown",
      "source": [
        "Nesta aula vamos agregar os votos extraídos do arquivo RDV."
      ],
      "metadata": {
        "id": "aYgj8tEKn3WV"
      }
    },
    {
      "cell_type": "code",
      "source": [
        "for vote in votes[0:10]:\n",
        "  print(vote)"
      ],
      "metadata": {
        "id": "yvrLD_U8n4mh"
      },
      "execution_count": null,
      "outputs": []
    },
    {
      "cell_type": "markdown",
      "source": [
        "### **3.1. Pandas**"
      ],
      "metadata": {
        "id": "1FqEmBSNnj5v"
      }
    },
    {
      "cell_type": "markdown",
      "source": [
        "Vamos utilizar o `Pandas`, o pacote **Python** mais utilizado para processamento de dados."
      ],
      "metadata": {
        "id": "Ci6sgZpOjodO"
      }
    },
    {
      "cell_type": "code",
      "source": [
        "import pandas as pd"
      ],
      "metadata": {
        "id": "ATSOc5bNjrgA"
      },
      "execution_count": null,
      "outputs": []
    },
    {
      "cell_type": "markdown",
      "source": [
        "### **3.2. DataFrame**"
      ],
      "metadata": {
        "id": "e3ElPGw0rZ5f"
      }
    },
    {
      "cell_type": "markdown",
      "source": [
        "A abstração base do `Pandas` é o `DataFrame`, uma estrutura de dados que representa uma tabela de duas dimensões."
      ],
      "metadata": {
        "id": "stW_4PNKrhuX"
      }
    },
    {
      "cell_type": "code",
      "source": [
        "votes_table = pd.DataFrame(votes)"
      ],
      "metadata": {
        "id": "w_ppM8GSjs8o"
      },
      "execution_count": null,
      "outputs": []
    },
    {
      "cell_type": "code",
      "source": [
        "votes_table.tail(n=30)"
      ],
      "metadata": {
        "id": "XrlA5BULjzE5"
      },
      "execution_count": null,
      "outputs": []
    },
    {
      "cell_type": "code",
      "source": [
        "votes_table.shape"
      ],
      "metadata": {
        "id": "7Swsri4Nj3F2"
      },
      "execution_count": null,
      "outputs": []
    },
    {
      "cell_type": "code",
      "source": [
        "votes_table.to_csv(\"rdv.csv\", header=True, index=False)"
      ],
      "metadata": {
        "id": "2qCTPCUBtdH1"
      },
      "execution_count": null,
      "outputs": []
    },
    {
      "cell_type": "markdown",
      "source": [
        "### **3.3. Agregação**"
      ],
      "metadata": {
        "id": "6poQ6YN7riqu"
      }
    },
    {
      "cell_type": "markdown",
      "source": [
        "Nesta etapa vamos agregagar os votos com uma operação matemática de soma."
      ],
      "metadata": {
        "id": "ARISjCaFkQZX"
      }
    },
    {
      "cell_type": "code",
      "source": [
        "votes_table_agg = votes_table.groupby('voto').agg('sum').reset_index()"
      ],
      "metadata": {
        "id": "gkEJzWmdj72o"
      },
      "execution_count": null,
      "outputs": []
    },
    {
      "cell_type": "code",
      "source": [
        "votes_table_agg"
      ],
      "metadata": {
        "id": "dzeCL1gtkK2H"
      },
      "execution_count": null,
      "outputs": []
    },
    {
      "cell_type": "markdown",
      "source": [
        "Nesta etapa vamos ordenar os dados agregados de forma decrescente, ou seja, da maior quantidade de votos para a menor."
      ],
      "metadata": {
        "id": "KCWacJbzkSc_"
      }
    },
    {
      "cell_type": "code",
      "source": [
        "votes_table_agg = votes_table_agg.sort_values(by='quantidade', ascending=False)"
      ],
      "metadata": {
        "id": "J9t3nD4ukTQC"
      },
      "execution_count": null,
      "outputs": []
    },
    {
      "cell_type": "code",
      "source": [
        "votes_table_agg"
      ],
      "metadata": {
        "id": "mC7IT5eckdDI"
      },
      "execution_count": null,
      "outputs": []
    },
    {
      "cell_type": "markdown",
      "source": [
        "Nesta etapa vamos adicionar uma coluna com os valores relativos percentuais da agregação dos dados."
      ],
      "metadata": {
        "id": "MZ6CzHPTkg7X"
      }
    },
    {
      "cell_type": "code",
      "source": [
        "votes_table_agg['quantidade_pct'] = round(100 * (votes_table_agg['quantidade'] / votes_table_agg['quantidade'].sum()), 2)"
      ],
      "metadata": {
        "id": "MgSv8oWKkiH2"
      },
      "execution_count": null,
      "outputs": []
    },
    {
      "cell_type": "code",
      "source": [
        "votes_table_agg"
      ],
      "metadata": {
        "id": "lRxc6x1mlIGf"
      },
      "execution_count": null,
      "outputs": []
    },
    {
      "cell_type": "markdown",
      "source": [
        "## 4\\. Visualização"
      ],
      "metadata": {
        "id": "Yn0ButilmZOV"
      }
    },
    {
      "cell_type": "markdown",
      "source": [
        "Nesta aula vamos visualizar os dados agregados."
      ],
      "metadata": {
        "id": "8ZmzZGzzlLJy"
      }
    },
    {
      "cell_type": "code",
      "source": [
        "votes_table_agg"
      ],
      "metadata": {
        "id": "upkG1XXUn9aw"
      },
      "execution_count": null,
      "outputs": []
    },
    {
      "cell_type": "markdown",
      "source": [
        "### **4.1. Seaborn**"
      ],
      "metadata": {
        "id": "jomWZQ4wnYh7"
      }
    },
    {
      "cell_type": "markdown",
      "source": [
        "Vamos utilizar o `Seaborn`, um dos pacotes **Python** mais utilizado para visualização de dados."
      ],
      "metadata": {
        "id": "cggXsefznzxn"
      }
    },
    {
      "cell_type": "code",
      "source": [
        "import seaborn as sns"
      ],
      "metadata": {
        "id": "pKTiZEq-lL-q"
      },
      "execution_count": null,
      "outputs": []
    },
    {
      "cell_type": "code",
      "source": [
        "URNA = \"Piracicaba/SP - 93 - 300\""
      ],
      "metadata": {
        "id": "PTMFZ1jjmkew"
      },
      "execution_count": null,
      "outputs": []
    },
    {
      "cell_type": "markdown",
      "source": [
        "Nesta primeira visualização, vamos observar a **quantidade de votos absolutos**."
      ],
      "metadata": {
        "id": "qCcZEvdIp3qX"
      }
    },
    {
      "cell_type": "code",
      "source": [
        "x_column = 'voto'\n",
        "y_column = 'quantidade'"
      ],
      "metadata": {
        "id": "1NndRl7Bq3yN"
      },
      "execution_count": null,
      "outputs": []
    },
    {
      "cell_type": "code",
      "source": [
        "title = f'Apuração Presidente - Segundo turno de 2022 - Urna {URNA}'\n",
        "x_lable = 'Voto'\n",
        "y_lable = 'Quantidade'"
      ],
      "metadata": {
        "id": "4PHyn-SAq3yO"
      },
      "execution_count": null,
      "outputs": []
    },
    {
      "cell_type": "code",
      "source": [
        "with sns.axes_style('whitegrid'):\n",
        "  chart = sns.barplot(data=votes_table_agg, x=x_column, y=y_column)\n",
        "  chart.set(title=title, xlabel=x_lable, ylabel=y_lable);"
      ],
      "metadata": {
        "id": "1FkWOYQ0lWIi"
      },
      "execution_count": null,
      "outputs": []
    },
    {
      "cell_type": "markdown",
      "source": [
        "Nesta segunda visualização, vamos observar a **quantidade de votos relativos**."
      ],
      "metadata": {
        "id": "C8SJN63Qp5FC"
      }
    },
    {
      "cell_type": "code",
      "source": [
        "x_column = 'voto'\n",
        "y_column = 'quantidade_pct'"
      ],
      "metadata": {
        "id": "iOXiDL_UqtnQ"
      },
      "execution_count": null,
      "outputs": []
    },
    {
      "cell_type": "code",
      "source": [
        "title = f'Apuração Presidente - Segundo turno de 2022 - Urna {URNA}'\n",
        "x_lable = 'Voto'\n",
        "y_lable = 'Quantidade (%)'"
      ],
      "metadata": {
        "id": "aMy65iinqEHJ"
      },
      "execution_count": null,
      "outputs": []
    },
    {
      "cell_type": "code",
      "source": [
        "with sns.axes_style('whitegrid'):\n",
        "  chart = sns.barplot(data=votes_table_agg, x=x_column, y=y_column)\n",
        "  chart.set(title=title, xlabel=x_lable, ylabel=y_lable);"
      ],
      "metadata": {
        "id": "2421F39nmDy4"
      },
      "execution_count": null,
      "outputs": []
    },
    {
      "cell_type": "markdown",
      "source": [
        "## 5\\. Divulgação"
      ],
      "metadata": {
        "id": "6k-4cGE8mvep"
      }
    },
    {
      "cell_type": "markdown",
      "source": [
        "Nesta aula vamos aprender a expor o nossa análise de dados."
      ],
      "metadata": {
        "id": "k_JoHgsBnVFX"
      }
    },
    {
      "cell_type": "markdown",
      "source": [
        "### **5.1. Kaggle**"
      ],
      "metadata": {
        "id": "s9IZBReZnNAi"
      }
    },
    {
      "cell_type": "markdown",
      "metadata": {
        "id": "xnsoZc_wI0sl"
      },
      "source": [
        "[Kaggle](https://www.kaggle.com/) é a maior comunidade online de ciência de dados e aprendizado de máquina. A plataforma permite que usuários encontrem e publiquem **conjuntos de dados**, construam e compartilhem **notebooks** (como este do Google Colab) e participem de **competições** (que pagam muito dinheiro as vezes). "
      ]
    },
    {
      "cell_type": "markdown",
      "metadata": {
        "id": "7BqRKqRGJ0i2"
      },
      "source": [
        "> Vamos publicar nosso **notebook** na plataforma web do Kaggle para que você possa compartilhar tudo o que você aprendeu nestas aulas e compor o seu portfólio."
      ]
    },
    {
      "cell_type": "markdown",
      "source": [
        " - Crie uma conta no Kaggle;\n",
        " - Faça o *download* do *notebook* do Google Colab;\n",
        " - Faça o *upload* do *notebook* no Kaggle."
      ],
      "metadata": {
        "id": "X0YmFIsjEjRK"
      }
    }
  ]
}