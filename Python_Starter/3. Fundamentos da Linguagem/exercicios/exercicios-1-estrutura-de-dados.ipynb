{
 "cells": [
  {
   "cell_type": "markdown",
   "metadata": {},
   "source": [
    "<img src=\"https://asimov.academy/wp-content/uploads/2021/01/logo.png\" width=\"200\"/>\n",
    "_____________________________________________\n",
    "\n",
    "## Exercícios #1 - Estruturas de dados\n"
   ]
  },
  {
   "cell_type": "markdown",
   "metadata": {},
   "source": [
    "### Exercício 1\n",
    "Utilizando o built-in method input(), crie um programa que receba a altura e o peso de uma pessoa e imprima na tela o IMC da mesma."
   ]
  },
  {
   "cell_type": "code",
   "execution_count": 4,
   "metadata": {},
   "outputs": [
    {
     "name": "stdout",
     "output_type": "stream",
     "text": [
      "31.63739669421488\n"
     ]
    }
   ],
   "source": [
    "altura = float(input(\"Informe sua altura\"))\n",
    "peso = float(input(\"Informe seu peso\"))\n",
    "\n",
    "imc = peso / altura ** 2\n",
    "\n",
    "print(imc)"
   ]
  },
  {
   "cell_type": "markdown",
   "metadata": {},
   "source": [
    "### Exercício 2 \n",
    "Escreva um programa que pergunte o nome completo do usuário e cumprimente o mesmo pelo primeiro nome."
   ]
  },
  {
   "cell_type": "code",
   "execution_count": 5,
   "metadata": {},
   "outputs": [
    {
     "name": "stdout",
     "output_type": "stream",
     "text": [
      "Sandro\n"
     ]
    }
   ],
   "source": [
    "nome = input(\"Informe seu nome completo\")\n",
    "\n",
    "print(nome.split()[0])"
   ]
  },
  {
   "cell_type": "markdown",
   "metadata": {},
   "source": [
    "### Exercício 3\n",
    "Desenho um código que extraia o domínio de um e-mail informado."
   ]
  },
  {
   "cell_type": "code",
   "execution_count": 6,
   "metadata": {},
   "outputs": [
    {
     "name": "stdout",
     "output_type": "stream",
     "text": [
      "gmail.com\n"
     ]
    }
   ],
   "source": [
    "email = input(\"Informe seu email\")\n",
    "\n",
    "print(email.split('@')[1])"
   ]
  },
  {
   "cell_type": "markdown",
   "metadata": {},
   "source": [
    "### Exercício 4 \n",
    "Faça um programa para uma loja de tintas. A pessoa informa a área em m2 que deseja pintar, e o script calculará a quantidade de latas de tinta que a pessoa deve comprar e o valor. Considere que cada litro de tinta pinta 3m2, que cada lata contém 18L e que custa R$ 80."
   ]
  },
  {
   "cell_type": "code",
   "execution_count": 15,
   "metadata": {},
   "outputs": [
    {
     "name": "stdout",
     "output_type": "stream",
     "text": [
      "Serão necessárias 1 latas de tintas e o valor total é: 80\n"
     ]
    }
   ],
   "source": [
    "import math\n",
    "m2 = float(input(\"Informe a metragem quadrada da obra\"))\n",
    "\n",
    "volume = math.ceil(m2 / 3)\n",
    "qtdeLata = math.ceil(volume/18)\n",
    "\n",
    "valor = qtdeLata * 80\n",
    "\n",
    "print('Serão necessárias {} latas de tintas e o valor total é: {}'.format(qtdeLata, valor))"
   ]
  },
  {
   "cell_type": "markdown",
   "metadata": {},
   "source": [
    "### Exercício 5\n",
    "Faça um Programa que pergunte quanto você ganha por hora e o número de horas trabalhadas no mês. Calcule e mostre o total do seu salário no referido mês, sabendo-se que são descontados 11% para o Imposto de Renda, 8% para o INSS e 5% para o sindicato, faça um programa que nos dê:\n",
    "1. Salário bruto.\n",
    "2. Quanto pagou ao INSS.\n",
    "3. Quanto pagou ao sindicato.\n",
    "4. O salário líquido."
   ]
  },
  {
   "cell_type": "code",
   "execution_count": 13,
   "metadata": {},
   "outputs": [
    {
     "name": "stdout",
     "output_type": "stream",
     "text": [
      "Salário Bruto: 1600.0\n",
      "INSS: 128.0\n",
      "Sindicato: 80.0\n",
      "Salário Líquido: 1216.0\n"
     ]
    }
   ],
   "source": [
    "horasTrabalhadas = float(input(\"Informe o número de horas trabalhadas: \"))\n",
    "valorHora = float(input('Informe o valor da hora de trabalho: '))\n",
    "\n",
    "salarioBruto = horasTrabalhadas * valorHora\n",
    "valorINSS = salarioBruto * 0.08\n",
    "valorSindicato = salarioBruto * 0.05\n",
    "impostoRenda = salarioBruto * 0.11\n",
    "\n",
    "salarioLiquido = salarioBruto - (valorINSS + valorSindicato + impostoRenda)\n",
    "\n",
    "print('Salário Bruto: {}'.format(salarioBruto))\n",
    "print('INSS: {}'.format(valorINSS))\n",
    "print('Sindicato: {}'.format(valorSindicato))\n",
    "print('Salário Líquido: {}'.format(salarioLiquido))\n"
   ]
  }
 ],
 "metadata": {
  "kernelspec": {
   "display_name": "Python 3 (ipykernel)",
   "language": "python",
   "name": "python3"
  },
  "language_info": {
   "codemirror_mode": {
    "name": "ipython",
    "version": 3
   },
   "file_extension": ".py",
   "mimetype": "text/x-python",
   "name": "python",
   "nbconvert_exporter": "python",
   "pygments_lexer": "ipython3",
   "version": "3.10.8"
  }
 },
 "nbformat": 4,
 "nbformat_minor": 4
}
