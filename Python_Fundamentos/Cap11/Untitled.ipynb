{
 "cells": [
  {
   "cell_type": "code",
   "execution_count": 2,
   "id": "10030fd4-be72-428a-bd9e-eb92ef93ba60",
   "metadata": {},
   "outputs": [
    {
     "name": "stdout",
     "output_type": "stream",
     "text": [
      "Hoje vai chover!\n"
     ]
    }
   ],
   "source": [
    "dia = \"Terça\"\n",
    "if dia == \"Segunda\":\n",
    "  print(\"Hoje fará sol!\")\n",
    "elif dia == \"Terça\":\n",
    "  print(\"Hoje vai chover!\")\n",
    "else:\n",
    "  print(\"Sem previsão do tempo para o dia selecionado\")"
   ]
  },
  {
   "cell_type": "code",
   "execution_count": 3,
   "id": "4f76b894-0bdf-4357-9da9-fd59cc2bf4e4",
   "metadata": {},
   "outputs": [],
   "source": [
    "pessoa1, pessoa2, pessoa3 = \"Maria\", \"José\", \"Tobias\""
   ]
  },
  {
   "cell_type": "code",
   "execution_count": 4,
   "id": "3a895ca3-08e4-4b4c-b214-a1675c8eb15e",
   "metadata": {},
   "outputs": [
    {
     "data": {
      "text/plain": [
       "4"
      ]
     },
     "execution_count": 4,
     "metadata": {},
     "output_type": "execute_result"
    }
   ],
   "source": [
    "estudantes = {\"Pedro\":24, \"Fernando\":22, \"Tania\":26, \"Cris\":25}\n",
    "len(estudantes)"
   ]
  },
  {
   "cell_type": "code",
   "execution_count": 5,
   "id": "74d432aa-8b47-4ccf-ae39-eb6624c09ac8",
   "metadata": {},
   "outputs": [
    {
     "data": {
      "text/plain": [
       "6"
      ]
     },
     "execution_count": 5,
     "metadata": {},
     "output_type": "execute_result"
    }
   ],
   "source": [
    "\n",
    "int(6.5)"
   ]
  },
  {
   "cell_type": "code",
   "execution_count": 6,
   "id": "dc61860c-b9eb-4492-aa37-32648a449622",
   "metadata": {},
   "outputs": [
    {
     "name": "stdout",
     "output_type": "stream",
     "text": [
      "0\n",
      "1\n",
      "2\n",
      "3\n"
     ]
    }
   ],
   "source": [
    "counter = 0\n",
    "while counter < 100:\n",
    "    if counter == 4:\n",
    "        break\n",
    "    else:\n",
    "        pass\n",
    "    print(counter)\n",
    "    counter = counter + 1\n"
   ]
  },
  {
   "cell_type": "code",
   "execution_count": 7,
   "id": "6bf67086-be3e-43b2-ac5f-ef68f148f84b",
   "metadata": {},
   "outputs": [
    {
     "data": {
      "text/plain": [
       "'D'"
      ]
     },
     "execution_count": 7,
     "metadata": {},
     "output_type": "execute_result"
    }
   ],
   "source": [
    "s = 'Data Science Academy'\n",
    "s[0]"
   ]
  },
  {
   "cell_type": "code",
   "execution_count": 8,
   "id": "23dceb4d-5e4d-487c-bcbb-0b2175ad0425",
   "metadata": {},
   "outputs": [
    {
     "data": {
      "text/plain": [
       "10"
      ]
     },
     "execution_count": 8,
     "metadata": {},
     "output_type": "execute_result"
    }
   ],
   "source": [
    "\n",
    "idade1 = 25\n",
    "idade2 = 35\n",
    "idade2 % idade1"
   ]
  },
  {
   "cell_type": "code",
   "execution_count": 9,
   "id": "99a3c742-0887-43f2-823c-9c432065f38a",
   "metadata": {},
   "outputs": [
    {
     "data": {
      "text/plain": [
       "False"
      ]
     },
     "execution_count": 9,
     "metadata": {},
     "output_type": "execute_result"
    }
   ],
   "source": [
    "Par = lambda x: x%2==0\n",
    "Par(3)"
   ]
  },
  {
   "cell_type": "code",
   "execution_count": 10,
   "id": "8c13228f-0f91-4540-8c43-c1e256194ad3",
   "metadata": {},
   "outputs": [
    {
     "data": {
      "text/plain": [
       "'y'"
      ]
     },
     "execution_count": 10,
     "metadata": {},
     "output_type": "execute_result"
    }
   ],
   "source": [
    "var = lambda s: s[1]\n",
    "var('Python')"
   ]
  },
  {
   "cell_type": "code",
   "execution_count": 11,
   "id": "05c109c4-3728-490f-a2b1-9222713d2833",
   "metadata": {},
   "outputs": [
    {
     "name": "stdout",
     "output_type": "stream",
     "text": [
      "{'k1': 'martelo', 'k2': 'serrote', 'k3': 'machado', 'k4': 'parafuso'}\n"
     ]
    }
   ],
   "source": [
    "dict = {'k1':'martelo', 'k2':'serrote', 'k3':'machado'}\n",
    "dict['k4'] = 'parafuso'\n",
    "print(dict)"
   ]
  },
  {
   "cell_type": "code",
   "execution_count": 16,
   "id": "6554775a-2f6f-4ebc-91f1-7a35c983c311",
   "metadata": {},
   "outputs": [
    {
     "data": {
      "text/plain": [
       "'Data Science Academ'"
      ]
     },
     "execution_count": 16,
     "metadata": {},
     "output_type": "execute_result"
    }
   ],
   "source": [
    "xs = 'Data Science Academy'\n",
    "s[:-1]"
   ]
  },
  {
   "cell_type": "code",
   "execution_count": 15,
   "id": "10cb49c4-320e-4a4f-ba45-f480829a026c",
   "metadata": {},
   "outputs": [
    {
     "ename": "SyntaxError",
     "evalue": "invalid syntax (4240816268.py, line 1)",
     "output_type": "error",
     "traceback": [
      "\u001b[0;36m  Cell \u001b[0;32mIn[15], line 1\u001b[0;36m\u001b[0m\n\u001b[0;31m    maes$ = \"Teste\"\u001b[0m\n\u001b[0m        ^\u001b[0m\n\u001b[0;31mSyntaxError\u001b[0m\u001b[0;31m:\u001b[0m invalid syntax\n"
     ]
    }
   ],
   "source": [
    "maes$ = \"Teste\""
   ]
  },
  {
   "cell_type": "code",
   "execution_count": 17,
   "id": "e661269b-c918-414f-97fa-6ba64641faea",
   "metadata": {},
   "outputs": [
    {
     "ename": "TypeError",
     "evalue": "'str' object does not support item assignment",
     "output_type": "error",
     "traceback": [
      "\u001b[0;31m---------------------------------------------------------------------------\u001b[0m",
      "\u001b[0;31mTypeError\u001b[0m                                 Traceback (most recent call last)",
      "Cell \u001b[0;32mIn[17], line 2\u001b[0m\n\u001b[1;32m      1\u001b[0m s \u001b[38;5;241m=\u001b[39m \u001b[38;5;124m'\u001b[39m\u001b[38;5;124mData Science Academy\u001b[39m\u001b[38;5;124m'\u001b[39m\n\u001b[0;32m----> 2\u001b[0m \u001b[43ms\u001b[49m\u001b[43m[\u001b[49m\u001b[38;5;241;43m0\u001b[39;49m\u001b[43m]\u001b[49m \u001b[38;5;241m=\u001b[39m \u001b[38;5;124m'\u001b[39m\u001b[38;5;124mx\u001b[39m\u001b[38;5;124m'\u001b[39m\n",
      "\u001b[0;31mTypeError\u001b[0m: 'str' object does not support item assignment"
     ]
    }
   ],
   "source": [
    "s = 'Data Science Academy'\n",
    "s[0] = 'x'"
   ]
  },
  {
   "cell_type": "code",
   "execution_count": 20,
   "id": "d5e2ff88-0a99-41f6-b7d6-b16aa1396095",
   "metadata": {},
   "outputs": [],
   "source": [
    "break1 = 1"
   ]
  },
  {
   "cell_type": "code",
   "execution_count": 21,
   "id": "49173656-645e-4142-89e1-85ccdf49ec5d",
   "metadata": {},
   "outputs": [
    {
     "name": "stdout",
     "output_type": "stream",
     "text": [
      "0\n",
      "-2\n",
      "-4\n",
      "-6\n",
      "-8\n"
     ]
    }
   ],
   "source": [
    "for i in range(0, -10, -2):\n",
    "    print(i)"
   ]
  },
  {
   "cell_type": "code",
   "execution_count": 22,
   "id": "beae6b24-ffbd-40f2-9257-a0f6da8ed288",
   "metadata": {},
   "outputs": [
    {
     "name": "stdout",
     "output_type": "stream",
     "text": [
      "Operação não permitida\n"
     ]
    }
   ],
   "source": [
    "try:\n",
    "    8 + 's'\n",
    "except TypeError:\n",
    "    print(\"Operação não permitida\")"
   ]
  },
  {
   "cell_type": "code",
   "execution_count": null,
   "id": "971581fe-820d-4f56-a791-0d019c26b46b",
   "metadata": {},
   "outputs": [],
   "source": []
  }
 ],
 "metadata": {
  "kernelspec": {
   "display_name": "Python 3 (ipykernel)",
   "language": "python",
   "name": "python3"
  },
  "language_info": {
   "codemirror_mode": {
    "name": "ipython",
    "version": 3
   },
   "file_extension": ".py",
   "mimetype": "text/x-python",
   "name": "python",
   "nbconvert_exporter": "python",
   "pygments_lexer": "ipython3",
   "version": "3.10.8"
  }
 },
 "nbformat": 4,
 "nbformat_minor": 5
}
