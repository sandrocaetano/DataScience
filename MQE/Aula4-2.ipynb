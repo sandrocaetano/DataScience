{
 "cells": [
  {
   "cell_type": "code",
   "execution_count": 2,
   "metadata": {},
   "outputs": [],
   "source": [
    "import pandas as pd \n",
    "import numpy as np "
   ]
  },
  {
   "cell_type": "code",
   "execution_count": 3,
   "metadata": {},
   "outputs": [],
   "source": [
    "baseDados = [\n",
    "    9.20, 9.30, 9.40, 9.50, 9.60, 9.60, 9.70, 9.70, 9.80, 9.80,  9.90, 10.10, 10.30,\n",
    "    9.20, 9.30, 9.40, 9.50, 9.60, 9.60, 9.70, 9.70, 9.80, 9.80,  9.90, 10.10, 10.30,\n",
    "    9.20, 9.30, 9.40, 9.50, 9.60, 9.60, 9.70, 9.70, 9.80, 9.90,  9.90, 10.10, 10.30,\n",
    "    9.20, 9.40, 9.40, 9.50, 9.60, 9.60, 9.70, 9.70, 9.80, 9.90, 10.00, 10.10, 10.40,\n",
    "    9.20, 9.40, 9.40, 9.50, 9.60, 9.60, 9.70, 9.70, 9.80, 9.90, 10.00, 10.20, 10.40,\n",
    "    9.30, 9.40, 9.50, 9.50, 9.60, 9.60, 9.70, 9.70, 9.80, 9.90, 10.00, 10.20,\n",
    "    9.30, 9.40, 9.50, 9.50, 9.60, 9.60, 9.70, 9.80, 9.80, 9.90, 10.00, 10.20,\n",
    "    9.30, 9.40, 9.50, 9.50, 9.60, 9.70, 9.70, 9.80, 9.80, 9.90, 10.00, 10.20,\n",
    "    9.30, 9.40, 9.50, 9.60, 9.60, 9.70, 9.70, 9.80, 9.80, 9.90, 10.00, 10.20,\n",
    "    9.30, 9.40, 9.50, 9.60, 9.60, 9.70, 9.70, 9.80, 9.80, 9.90, 10.00, 10.30,\n",
    "]"
   ]
  },
  {
   "cell_type": "code",
   "execution_count": 4,
   "metadata": {},
   "outputs": [
    {
     "data": {
      "text/html": [
       "<div>\n",
       "<style scoped>\n",
       "    .dataframe tbody tr th:only-of-type {\n",
       "        vertical-align: middle;\n",
       "    }\n",
       "\n",
       "    .dataframe tbody tr th {\n",
       "        vertical-align: top;\n",
       "    }\n",
       "\n",
       "    .dataframe thead th {\n",
       "        text-align: right;\n",
       "    }\n",
       "</style>\n",
       "<table border=\"1\" class=\"dataframe\">\n",
       "  <thead>\n",
       "    <tr style=\"text-align: right;\">\n",
       "      <th></th>\n",
       "      <th>fi</th>\n",
       "      <th>pi</th>\n",
       "      <th>Fi</th>\n",
       "      <th>Fi %</th>\n",
       "      <th>pm</th>\n",
       "      <th>xifi</th>\n",
       "      <th>xi2fi</th>\n",
       "      <th>filnxi</th>\n",
       "      <th>fi/xi</th>\n",
       "    </tr>\n",
       "  </thead>\n",
       "  <tbody>\n",
       "    <tr>\n",
       "      <th>[9.2, 9.6)</th>\n",
       "      <td>38</td>\n",
       "      <td>0.304</td>\n",
       "      <td>38</td>\n",
       "      <td>0.304</td>\n",
       "      <td>9.4</td>\n",
       "      <td>357.2</td>\n",
       "      <td>3357.68</td>\n",
       "      <td>85.146968</td>\n",
       "      <td>4.042553</td>\n",
       "    </tr>\n",
       "    <tr>\n",
       "      <th>[9.6, 10.0)</th>\n",
       "      <td>65</td>\n",
       "      <td>0.520</td>\n",
       "      <td>103</td>\n",
       "      <td>0.824</td>\n",
       "      <td>9.8</td>\n",
       "      <td>637.0</td>\n",
       "      <td>6242.60</td>\n",
       "      <td>148.354855</td>\n",
       "      <td>6.632653</td>\n",
       "    </tr>\n",
       "    <tr>\n",
       "      <th>[10.0, 10.4)</th>\n",
       "      <td>20</td>\n",
       "      <td>0.160</td>\n",
       "      <td>123</td>\n",
       "      <td>0.984</td>\n",
       "      <td>10.2</td>\n",
       "      <td>204.0</td>\n",
       "      <td>2080.80</td>\n",
       "      <td>46.447754</td>\n",
       "      <td>1.960784</td>\n",
       "    </tr>\n",
       "    <tr>\n",
       "      <th>[10.4, 10.8)</th>\n",
       "      <td>2</td>\n",
       "      <td>0.016</td>\n",
       "      <td>125</td>\n",
       "      <td>1.000</td>\n",
       "      <td>10.6</td>\n",
       "      <td>21.2</td>\n",
       "      <td>224.72</td>\n",
       "      <td>4.721708</td>\n",
       "      <td>0.188679</td>\n",
       "    </tr>\n",
       "  </tbody>\n",
       "</table>\n",
       "</div>"
      ],
      "text/plain": [
       "              fi     pi   Fi   Fi %    pm   xifi    xi2fi      filnxi  \\\n",
       "[9.2, 9.6)    38  0.304   38  0.304   9.4  357.2  3357.68   85.146968   \n",
       "[9.6, 10.0)   65  0.520  103  0.824   9.8  637.0  6242.60  148.354855   \n",
       "[10.0, 10.4)  20  0.160  123  0.984  10.2  204.0  2080.80   46.447754   \n",
       "[10.4, 10.8)   2  0.016  125  1.000  10.6   21.2   224.72    4.721708   \n",
       "\n",
       "                 fi/xi  \n",
       "[9.2, 9.6)    4.042553  \n",
       "[9.6, 10.0)   6.632653  \n",
       "[10.0, 10.4)  1.960784  \n",
       "[10.4, 10.8)  0.188679  "
      ]
     },
     "execution_count": 4,
     "metadata": {},
     "output_type": "execute_result"
    }
   ],
   "source": [
    "serie = pd.Series(baseDados)\n",
    "\n",
    "frequencia = pd.value_counts(\n",
    "  pd.cut(\n",
    "    x = serie,\n",
    "    bins =[9.2, 9.6, 10, 10.4, 10.8],\n",
    "    include_lowest = True,\n",
    "    right=False\n",
    "  ),\n",
    "  sort = False\n",
    ")\n",
    "\n",
    "df = pd.DataFrame(frequencia)\n",
    "\n",
    "df.columns = ['fi']\n",
    "total = df['fi'].sum()\n",
    "\n",
    "df['pi'] = df['fi'] / total\n",
    "df\n",
    "\n",
    "freq_acumulada = []\n",
    "acumulada = 0 \n",
    "for frequencia in df['fi']:\n",
    "    acumulada = acumulada + frequencia\n",
    "    freq_acumulada.append(acumulada)\n",
    "\n",
    "df['Fi'] = freq_acumulada\n",
    "df['Fi %'] = df['Fi'] / total\n",
    "\n",
    "pm = [9.4, 9.8, 10.2, 10.6]\n",
    "df['pm'] = pm\n",
    "\n",
    "df['xifi'] = df['pm'] * df['fi']\n",
    "df['xi2fi'] = (df['pm'] ** 2) * df['fi']\n",
    "\n",
    "df['filnxi'] = df['fi'] * np.log(df['pm'])\n",
    "df['fi/xi'] = df['fi'] / df['pm']\n",
    "df\n",
    "\n"
   ]
  },
  {
   "cell_type": "code",
   "execution_count": 5,
   "metadata": {},
   "outputs": [
    {
     "data": {
      "text/plain": [
       "9.759426212641808"
      ]
     },
     "execution_count": 5,
     "metadata": {},
     "output_type": "execute_result"
    }
   ],
   "source": [
    "mediaAritmetica = df['xifi'].sum() / total\n",
    "mediaAritmetica\n",
    "\n",
    "mediaGeometrica = np.e ** (df['filnxi'].sum()/total)\n",
    "mediaGeometrica\n",
    "\n",
    "mediaHarmonica = total / df['fi/xi'].sum()\n",
    "mediaHarmonica\n",
    "\n",
    "mediaQuadratica = np.sqrt(df['xi2fi'].sum()/total)\n",
    "mediaQuadratica"
   ]
  },
  {
   "cell_type": "code",
   "execution_count": 6,
   "metadata": {},
   "outputs": [
    {
     "data": {
      "text/html": [
       "<div>\n",
       "<style scoped>\n",
       "    .dataframe tbody tr th:only-of-type {\n",
       "        vertical-align: middle;\n",
       "    }\n",
       "\n",
       "    .dataframe tbody tr th {\n",
       "        vertical-align: top;\n",
       "    }\n",
       "\n",
       "    .dataframe thead th {\n",
       "        text-align: right;\n",
       "    }\n",
       "</style>\n",
       "<table border=\"1\" class=\"dataframe\">\n",
       "  <thead>\n",
       "    <tr style=\"text-align: right;\">\n",
       "      <th></th>\n",
       "      <th>fi</th>\n",
       "      <th>pi</th>\n",
       "      <th>Fi</th>\n",
       "      <th>Fi %</th>\n",
       "      <th>pm</th>\n",
       "      <th>xifi</th>\n",
       "      <th>xi2fi</th>\n",
       "      <th>filnxi</th>\n",
       "      <th>fi/xi</th>\n",
       "      <th>di</th>\n",
       "      <th>difi</th>\n",
       "      <th>mdifi</th>\n",
       "      <th>di2fi</th>\n",
       "      <th>di3fi</th>\n",
       "      <th>di4fi</th>\n",
       "    </tr>\n",
       "  </thead>\n",
       "  <tbody>\n",
       "    <tr>\n",
       "      <th>[9.2, 9.6)</th>\n",
       "      <td>38</td>\n",
       "      <td>0.304</td>\n",
       "      <td>38</td>\n",
       "      <td>0.304</td>\n",
       "      <td>9.4</td>\n",
       "      <td>357.2</td>\n",
       "      <td>3357.68</td>\n",
       "      <td>85.146968</td>\n",
       "      <td>4.042553</td>\n",
       "      <td>-0.3552</td>\n",
       "      <td>-13.4976</td>\n",
       "      <td>13.4976</td>\n",
       "      <td>4.794348</td>\n",
       "      <td>-1.702952</td>\n",
       "      <td>0.604889</td>\n",
       "    </tr>\n",
       "    <tr>\n",
       "      <th>[9.6, 10.0)</th>\n",
       "      <td>65</td>\n",
       "      <td>0.520</td>\n",
       "      <td>103</td>\n",
       "      <td>0.824</td>\n",
       "      <td>9.8</td>\n",
       "      <td>637.0</td>\n",
       "      <td>6242.60</td>\n",
       "      <td>148.354855</td>\n",
       "      <td>6.632653</td>\n",
       "      <td>0.0448</td>\n",
       "      <td>2.9120</td>\n",
       "      <td>2.9120</td>\n",
       "      <td>0.130458</td>\n",
       "      <td>0.005845</td>\n",
       "      <td>0.000262</td>\n",
       "    </tr>\n",
       "    <tr>\n",
       "      <th>[10.0, 10.4)</th>\n",
       "      <td>20</td>\n",
       "      <td>0.160</td>\n",
       "      <td>123</td>\n",
       "      <td>0.984</td>\n",
       "      <td>10.2</td>\n",
       "      <td>204.0</td>\n",
       "      <td>2080.80</td>\n",
       "      <td>46.447754</td>\n",
       "      <td>1.960784</td>\n",
       "      <td>0.4448</td>\n",
       "      <td>8.8960</td>\n",
       "      <td>8.8960</td>\n",
       "      <td>3.956941</td>\n",
       "      <td>1.760047</td>\n",
       "      <td>0.782869</td>\n",
       "    </tr>\n",
       "    <tr>\n",
       "      <th>[10.4, 10.8)</th>\n",
       "      <td>2</td>\n",
       "      <td>0.016</td>\n",
       "      <td>125</td>\n",
       "      <td>1.000</td>\n",
       "      <td>10.6</td>\n",
       "      <td>21.2</td>\n",
       "      <td>224.72</td>\n",
       "      <td>4.721708</td>\n",
       "      <td>0.188679</td>\n",
       "      <td>0.8448</td>\n",
       "      <td>1.6896</td>\n",
       "      <td>1.6896</td>\n",
       "      <td>1.427374</td>\n",
       "      <td>1.205846</td>\n",
       "      <td>1.018698</td>\n",
       "    </tr>\n",
       "  </tbody>\n",
       "</table>\n",
       "</div>"
      ],
      "text/plain": [
       "              fi     pi   Fi   Fi %    pm   xifi    xi2fi      filnxi  \\\n",
       "[9.2, 9.6)    38  0.304   38  0.304   9.4  357.2  3357.68   85.146968   \n",
       "[9.6, 10.0)   65  0.520  103  0.824   9.8  637.0  6242.60  148.354855   \n",
       "[10.0, 10.4)  20  0.160  123  0.984  10.2  204.0  2080.80   46.447754   \n",
       "[10.4, 10.8)   2  0.016  125  1.000  10.6   21.2   224.72    4.721708   \n",
       "\n",
       "                 fi/xi      di     difi    mdifi     di2fi     di3fi     di4fi  \n",
       "[9.2, 9.6)    4.042553 -0.3552 -13.4976  13.4976  4.794348 -1.702952  0.604889  \n",
       "[9.6, 10.0)   6.632653  0.0448   2.9120   2.9120  0.130458  0.005845  0.000262  \n",
       "[10.0, 10.4)  1.960784  0.4448   8.8960   8.8960  3.956941  1.760047  0.782869  \n",
       "[10.4, 10.8)  0.188679  0.8448   1.6896   1.6896  1.427374  1.205846  1.018698  "
      ]
     },
     "execution_count": 6,
     "metadata": {},
     "output_type": "execute_result"
    }
   ],
   "source": [
    "df['di'] = np.round((df['pm'] - mediaAritmetica),4)\n",
    "df['difi'] = df['di'] * df['fi']\n",
    "df['mdifi'] = np.abs(df['di']) * df['fi']\n",
    "df['di2fi'] = (df['di'] ** 2) * df['fi']\n",
    "df['di3fi'] = (df['di'] ** 3) * df['fi']\n",
    "df['di4fi'] = (df['di'] ** 4) * df['fi']\n",
    "df"
   ]
  },
  {
   "cell_type": "code",
   "execution_count": 7,
   "metadata": {},
   "outputs": [
    {
     "name": "stdout",
     "output_type": "stream",
     "text": [
      "0.28718105787116255\n"
     ]
    },
    {
     "data": {
      "text/plain": [
       "0.08247296"
      ]
     },
     "execution_count": 7,
     "metadata": {},
     "output_type": "execute_result"
    }
   ],
   "source": [
    "desvioPadrao = np.sqrt(df['di2fi'].sum()/total)\n",
    "print(desvioPadrao)\n",
    "\n",
    "cv = desvioPadrao / mediaAritmetica\n",
    "cv\n",
    "\n",
    "variancia = df['di2fi'].sum() / total\n",
    "variancia"
   ]
  },
  {
   "cell_type": "code",
   "execution_count": 8,
   "metadata": {},
   "outputs": [
    {
     "name": "stdout",
     "output_type": "stream",
     "text": [
      "0.08247296\n",
      "0.010150281215999995\n",
      "0.019253743006515202\n"
     ]
    }
   ],
   "source": [
    "uR2 = df['di2fi'].sum() / total\n",
    "print(uR2)\n",
    "\n",
    "uR3 = df['di3fi'].sum() / total\n",
    "print(uR3)\n",
    "\n",
    "uR4 = df['di4fi'].sum() / total\n",
    "print(uR4)"
   ]
  },
  {
   "cell_type": "code",
   "execution_count": 9,
   "metadata": {},
   "outputs": [
    {
     "name": "stdout",
     "output_type": "stream",
     "text": [
      "0.4285590807198186\n",
      "Assimetria Positiva\n"
     ]
    }
   ],
   "source": [
    "alpha3 = uR3 / (uR2 ** (3/2))\n",
    "print(alpha3)\n",
    "\n",
    "if alpha3 < 0:\n",
    "    print('Assimetria Negativa')\n",
    "elif alpha3 == 0:\n",
    "    print('Simetrica')\n",
    "else:\n",
    "    print('Assimetria Positiva')"
   ]
  },
  {
   "cell_type": "code",
   "execution_count": 10,
   "metadata": {},
   "outputs": [
    {
     "name": "stdout",
     "output_type": "stream",
     "text": [
      "-0.16931198023966454\n",
      "Platicurtica\n"
     ]
    }
   ],
   "source": [
    "alpha4 = (uR4 / uR2 ** 2) -3\n",
    "print(alpha4)\n",
    "\n",
    "if alpha4 < 0:\n",
    "    print('Platicurtica')\n",
    "elif alpha4 == 0:\n",
    "    print('Mesocurtica')\n",
    "else:\n",
    "    print('Leptocurtica')"
   ]
  },
  {
   "cell_type": "code",
   "execution_count": 11,
   "metadata": {},
   "outputs": [
    {
     "data": {
      "text/html": [
       "<div>\n",
       "<style scoped>\n",
       "    .dataframe tbody tr th:only-of-type {\n",
       "        vertical-align: middle;\n",
       "    }\n",
       "\n",
       "    .dataframe tbody tr th {\n",
       "        vertical-align: top;\n",
       "    }\n",
       "\n",
       "    .dataframe thead th {\n",
       "        text-align: right;\n",
       "    }\n",
       "</style>\n",
       "<table border=\"1\" class=\"dataframe\">\n",
       "  <thead>\n",
       "    <tr style=\"text-align: right;\">\n",
       "      <th></th>\n",
       "      <th>fi</th>\n",
       "      <th>pi</th>\n",
       "      <th>Fi</th>\n",
       "      <th>Fi %</th>\n",
       "      <th>pm</th>\n",
       "      <th>xifi</th>\n",
       "      <th>xi2fi</th>\n",
       "      <th>filnxi</th>\n",
       "      <th>fi/xi</th>\n",
       "      <th>di</th>\n",
       "      <th>difi</th>\n",
       "      <th>mdifi</th>\n",
       "      <th>di2fi</th>\n",
       "      <th>di3fi</th>\n",
       "      <th>di4fi</th>\n",
       "      <th>Di</th>\n",
       "      <th>Difi</th>\n",
       "      <th>Di2fi</th>\n",
       "      <th>Di3fi</th>\n",
       "      <th>Di4fi</th>\n",
       "    </tr>\n",
       "  </thead>\n",
       "  <tbody>\n",
       "    <tr>\n",
       "      <th>[9.2, 9.6)</th>\n",
       "      <td>38</td>\n",
       "      <td>0.304</td>\n",
       "      <td>38</td>\n",
       "      <td>0.304</td>\n",
       "      <td>9.4</td>\n",
       "      <td>357.2</td>\n",
       "      <td>3357.68</td>\n",
       "      <td>85.146968</td>\n",
       "      <td>4.042553</td>\n",
       "      <td>-0.3552</td>\n",
       "      <td>-13.4976</td>\n",
       "      <td>13.4976</td>\n",
       "      <td>4.794348</td>\n",
       "      <td>-1.702952</td>\n",
       "      <td>0.604889</td>\n",
       "      <td>-0.6</td>\n",
       "      <td>-22.8</td>\n",
       "      <td>13.68</td>\n",
       "      <td>-8.208</td>\n",
       "      <td>4.9248</td>\n",
       "    </tr>\n",
       "    <tr>\n",
       "      <th>[9.6, 10.0)</th>\n",
       "      <td>65</td>\n",
       "      <td>0.520</td>\n",
       "      <td>103</td>\n",
       "      <td>0.824</td>\n",
       "      <td>9.8</td>\n",
       "      <td>637.0</td>\n",
       "      <td>6242.60</td>\n",
       "      <td>148.354855</td>\n",
       "      <td>6.632653</td>\n",
       "      <td>0.0448</td>\n",
       "      <td>2.9120</td>\n",
       "      <td>2.9120</td>\n",
       "      <td>0.130458</td>\n",
       "      <td>0.005845</td>\n",
       "      <td>0.000262</td>\n",
       "      <td>-0.2</td>\n",
       "      <td>-13.0</td>\n",
       "      <td>2.60</td>\n",
       "      <td>-0.520</td>\n",
       "      <td>0.1040</td>\n",
       "    </tr>\n",
       "    <tr>\n",
       "      <th>[10.0, 10.4)</th>\n",
       "      <td>20</td>\n",
       "      <td>0.160</td>\n",
       "      <td>123</td>\n",
       "      <td>0.984</td>\n",
       "      <td>10.2</td>\n",
       "      <td>204.0</td>\n",
       "      <td>2080.80</td>\n",
       "      <td>46.447754</td>\n",
       "      <td>1.960784</td>\n",
       "      <td>0.4448</td>\n",
       "      <td>8.8960</td>\n",
       "      <td>8.8960</td>\n",
       "      <td>3.956941</td>\n",
       "      <td>1.760047</td>\n",
       "      <td>0.782869</td>\n",
       "      <td>0.2</td>\n",
       "      <td>4.0</td>\n",
       "      <td>0.80</td>\n",
       "      <td>0.160</td>\n",
       "      <td>0.0320</td>\n",
       "    </tr>\n",
       "    <tr>\n",
       "      <th>[10.4, 10.8)</th>\n",
       "      <td>2</td>\n",
       "      <td>0.016</td>\n",
       "      <td>125</td>\n",
       "      <td>1.000</td>\n",
       "      <td>10.6</td>\n",
       "      <td>21.2</td>\n",
       "      <td>224.72</td>\n",
       "      <td>4.721708</td>\n",
       "      <td>0.188679</td>\n",
       "      <td>0.8448</td>\n",
       "      <td>1.6896</td>\n",
       "      <td>1.6896</td>\n",
       "      <td>1.427374</td>\n",
       "      <td>1.205846</td>\n",
       "      <td>1.018698</td>\n",
       "      <td>0.6</td>\n",
       "      <td>1.2</td>\n",
       "      <td>0.72</td>\n",
       "      <td>0.432</td>\n",
       "      <td>0.2592</td>\n",
       "    </tr>\n",
       "  </tbody>\n",
       "</table>\n",
       "</div>"
      ],
      "text/plain": [
       "              fi     pi   Fi   Fi %    pm   xifi    xi2fi      filnxi  \\\n",
       "[9.2, 9.6)    38  0.304   38  0.304   9.4  357.2  3357.68   85.146968   \n",
       "[9.6, 10.0)   65  0.520  103  0.824   9.8  637.0  6242.60  148.354855   \n",
       "[10.0, 10.4)  20  0.160  123  0.984  10.2  204.0  2080.80   46.447754   \n",
       "[10.4, 10.8)   2  0.016  125  1.000  10.6   21.2   224.72    4.721708   \n",
       "\n",
       "                 fi/xi      di     difi    mdifi     di2fi     di3fi  \\\n",
       "[9.2, 9.6)    4.042553 -0.3552 -13.4976  13.4976  4.794348 -1.702952   \n",
       "[9.6, 10.0)   6.632653  0.0448   2.9120   2.9120  0.130458  0.005845   \n",
       "[10.0, 10.4)  1.960784  0.4448   8.8960   8.8960  3.956941  1.760047   \n",
       "[10.4, 10.8)  0.188679  0.8448   1.6896   1.6896  1.427374  1.205846   \n",
       "\n",
       "                 di4fi   Di  Difi  Di2fi  Di3fi   Di4fi  \n",
       "[9.2, 9.6)    0.604889 -0.6 -22.8  13.68 -8.208  4.9248  \n",
       "[9.6, 10.0)   0.000262 -0.2 -13.0   2.60 -0.520  0.1040  \n",
       "[10.0, 10.4)  0.782869  0.2   4.0   0.80  0.160  0.0320  \n",
       "[10.4, 10.8)  1.018698  0.6   1.2   0.72  0.432  0.2592  "
      ]
     },
     "execution_count": 11,
     "metadata": {},
     "output_type": "execute_result"
    }
   ],
   "source": [
    "# Valor a = 10\n",
    "\n",
    "a = 10\n",
    "\n",
    "df['Di'] = np.round((df['pm'] - a),2)\n",
    "df['Difi'] = df['Di'] * df['fi']\n",
    "df['Di2fi'] = (df['Di'] ** 2) * df['fi']\n",
    "df['Di3fi'] = (df['Di'] ** 3) * df['fi']\n",
    "df['Di4fi'] = (df['Di'] ** 4) * df['fi']\n",
    "df"
   ]
  },
  {
   "cell_type": "code",
   "execution_count": 12,
   "metadata": {},
   "outputs": [
    {
     "name": "stdout",
     "output_type": "stream",
     "text": [
      "-0.2448\n",
      "0.1424\n",
      "-0.06508799999999998\n",
      "0.042559999999999994\n"
     ]
    }
   ],
   "source": [
    "UR1 = df['Difi'].sum() / total\n",
    "print(UR1)\n",
    "\n",
    "UR2 = df['Di2fi'].sum() / total\n",
    "print(UR2)\n",
    "\n",
    "UR3 = df['Di3fi'].sum() / total\n",
    "print(UR3)\n",
    "\n",
    "UR4 = df['Di4fi'].sum() / total\n",
    "print(UR4)"
   ]
  },
  {
   "cell_type": "code",
   "execution_count": 13,
   "metadata": {},
   "outputs": [
    {
     "name": "stdout",
     "output_type": "stream",
     "text": [
      "0.08247296000000001\n"
     ]
    }
   ],
   "source": [
    "u2 = UR2 - (UR1 ** 2)\n",
    "print(u2)"
   ]
  },
  {
   "cell_type": "code",
   "execution_count": 14,
   "metadata": {},
   "outputs": [
    {
     "name": "stdout",
     "output_type": "stream",
     "text": [
      "0.01015028121600001\n"
     ]
    }
   ],
   "source": [
    "u3 = UR3 - 3 * UR1 * UR2 + 2 * UR1 ** 3\n",
    "print(u3)"
   ]
  },
  {
   "cell_type": "code",
   "execution_count": 15,
   "metadata": {},
   "outputs": [
    {
     "name": "stdout",
     "output_type": "stream",
     "text": [
      "0.019253743006515223\n"
     ]
    }
   ],
   "source": [
    "u4 = UR4 - 4 * UR1 * UR3 + 6 * (UR1 ** 2) * UR2 - 3 * (UR1 ** 4)\n",
    "print(u4)"
   ]
  }
 ],
 "metadata": {
  "kernelspec": {
   "display_name": "Python 3 (ipykernel)",
   "language": "python",
   "name": "python3"
  },
  "language_info": {
   "codemirror_mode": {
    "name": "ipython",
    "version": 3
   },
   "file_extension": ".py",
   "mimetype": "text/x-python",
   "name": "python",
   "nbconvert_exporter": "python",
   "pygments_lexer": "ipython3",
   "version": "3.10.9"
  },
  "orig_nbformat": 4
 },
 "nbformat": 4,
 "nbformat_minor": 2
}
