{
 "cells": [
  {
   "cell_type": "code",
   "execution_count": 5,
   "metadata": {},
   "outputs": [],
   "source": [
    "import pandas as pd \n",
    "import numpy as np \n"
   ]
  },
  {
   "cell_type": "code",
   "execution_count": 6,
   "metadata": {},
   "outputs": [],
   "source": [
    "baseDados = [\n",
    "    9.20, 9.30, 9.40, 9.50, 9.60, 9.60, 9.70, 9.70, 9.80, 9.80,  9.90, 10.10, 10.30,\n",
    "    9.20, 9.30, 9.40, 9.50, 9.60, 9.60, 9.70, 9.70, 9.80, 9.80,  9.90, 10.10, 10.30,\n",
    "    9.20, 9.30, 9.40, 9.50, 9.60, 9.60, 9.70, 9.70, 9.80, 9.90,  9.90, 10.10, 10.30,\n",
    "    9.20, 9.40, 9.40, 9.50, 9.60, 9.60, 9.70, 9.70, 9.80, 9.90, 10.00, 10.10, 10.40,\n",
    "    9.20, 9.40, 9.40, 9.50, 9.60, 9.60, 9.70, 9.70, 9.80, 9.90, 10.00, 10.20, 10.40,\n",
    "    9.30, 9.40, 9.50, 9.50, 9.60, 9.60, 9.70, 9.70, 9.80, 9.90, 10.00, 10.20,\n",
    "    9.30, 9.40, 9.50, 9.50, 9.60, 9.60, 9.70, 9.80, 9.80, 9.90, 10.00, 10.20,\n",
    "    9.30, 9.40, 9.50, 9.50, 9.60, 9.70, 9.70, 9.80, 9.80, 9.90, 10.00, 10.20,\n",
    "    9.30, 9.40, 9.50, 9.60, 9.60, 9.70, 9.70, 9.80, 9.80, 9.90, 10.00, 10.20,\n",
    "    9.30, 9.40, 9.50, 9.60, 9.60, 9.70, 9.70, 9.80, 9.80, 9.90, 10.00, 10.30,\n",
    "]"
   ]
  },
  {
   "cell_type": "code",
   "execution_count": 25,
   "metadata": {},
   "outputs": [],
   "source": [
    "serie = pd.Series(baseDados)\n",
    "df = pd.DataFrame(serie.value_counts().sort_index())\n",
    "df = df.reset_index()\n",
    "df.columns = ['xi','fi']\n",
    "total = df['fi'].sum()\n",
    "\n",
    "df['pi'] = df['fi'] / total\n",
    "df\n",
    "\n",
    "freq_acumulada = []\n",
    "acumulada = 0 \n",
    "for frequencia in df['fi']:\n",
    "    acumulada = acumulada + frequencia\n",
    "    freq_acumulada.append(acumulada)\n",
    "\n",
    "df['Fi'] = freq_acumulada\n",
    "df['Fi %'] = df['Fi'] / total\n"
   ]
  },
  {
   "cell_type": "code",
   "execution_count": null,
   "metadata": {},
   "outputs": [],
   "source": []
  }
 ],
 "metadata": {
  "kernelspec": {
   "display_name": "Python 3 (ipykernel)",
   "language": "python",
   "name": "python3"
  },
  "language_info": {
   "codemirror_mode": {
    "name": "ipython",
    "version": 3
   },
   "file_extension": ".py",
   "mimetype": "text/x-python",
   "name": "python",
   "nbconvert_exporter": "python",
   "pygments_lexer": "ipython3",
   "version": "3.10.9"
  },
  "orig_nbformat": 4
 },
 "nbformat": 4,
 "nbformat_minor": 2
}
