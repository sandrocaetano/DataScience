{
 "cells": [
  {
   "cell_type": "code",
   "execution_count": 8,
   "metadata": {},
   "outputs": [],
   "source": [
    "import pandas as pd \n",
    "import numpy as np "
   ]
  },
  {
   "cell_type": "code",
   "execution_count": 9,
   "metadata": {},
   "outputs": [],
   "source": [
    "baseDados = [\n",
    "    9.20, 9.30, 9.40, 9.50, 9.60, 9.60, 9.70, 9.70, 9.80, 9.80,  9.90, 10.10, 10.30,\n",
    "    9.20, 9.30, 9.40, 9.50, 9.60, 9.60, 9.70, 9.70, 9.80, 9.80,  9.90, 10.10, 10.30,\n",
    "    9.20, 9.30, 9.40, 9.50, 9.60, 9.60, 9.70, 9.70, 9.80, 9.90,  9.90, 10.10, 10.30,\n",
    "    9.20, 9.40, 9.40, 9.50, 9.60, 9.60, 9.70, 9.70, 9.80, 9.90, 10.00, 10.10, 10.40,\n",
    "    9.20, 9.40, 9.40, 9.50, 9.60, 9.60, 9.70, 9.70, 9.80, 9.90, 10.00, 10.20, 10.40,\n",
    "    9.30, 9.40, 9.50, 9.50, 9.60, 9.60, 9.70, 9.70, 9.80, 9.90, 10.00, 10.20,\n",
    "    9.30, 9.40, 9.50, 9.50, 9.60, 9.60, 9.70, 9.80, 9.80, 9.90, 10.00, 10.20,\n",
    "    9.30, 9.40, 9.50, 9.50, 9.60, 9.70, 9.70, 9.80, 9.80, 9.90, 10.00, 10.20,\n",
    "    9.30, 9.40, 9.50, 9.60, 9.60, 9.70, 9.70, 9.80, 9.80, 9.90, 10.00, 10.20,\n",
    "    9.30, 9.40, 9.50, 9.60, 9.60, 9.70, 9.70, 9.80, 9.80, 9.90, 10.00, 10.30,\n",
    "]"
   ]
  },
  {
   "cell_type": "code",
   "execution_count": 10,
   "metadata": {},
   "outputs": [
    {
     "data": {
      "text/html": [
       "<div>\n",
       "<style scoped>\n",
       "    .dataframe tbody tr th:only-of-type {\n",
       "        vertical-align: middle;\n",
       "    }\n",
       "\n",
       "    .dataframe tbody tr th {\n",
       "        vertical-align: top;\n",
       "    }\n",
       "\n",
       "    .dataframe thead th {\n",
       "        text-align: right;\n",
       "    }\n",
       "</style>\n",
       "<table border=\"1\" class=\"dataframe\">\n",
       "  <thead>\n",
       "    <tr style=\"text-align: right;\">\n",
       "      <th></th>\n",
       "      <th>fi</th>\n",
       "      <th>pi</th>\n",
       "      <th>Fi</th>\n",
       "      <th>Fi %</th>\n",
       "      <th>pm</th>\n",
       "      <th>xifi</th>\n",
       "      <th>xi2fi</th>\n",
       "      <th>filnxi</th>\n",
       "      <th>fi/xi</th>\n",
       "    </tr>\n",
       "  </thead>\n",
       "  <tbody>\n",
       "    <tr>\n",
       "      <th>[9.2, 9.6)</th>\n",
       "      <td>38</td>\n",
       "      <td>0.304</td>\n",
       "      <td>38</td>\n",
       "      <td>0.304</td>\n",
       "      <td>9.4</td>\n",
       "      <td>357.2</td>\n",
       "      <td>3357.68</td>\n",
       "      <td>85.146968</td>\n",
       "      <td>4.042553</td>\n",
       "    </tr>\n",
       "    <tr>\n",
       "      <th>[9.6, 10.0)</th>\n",
       "      <td>65</td>\n",
       "      <td>0.520</td>\n",
       "      <td>103</td>\n",
       "      <td>0.824</td>\n",
       "      <td>9.8</td>\n",
       "      <td>637.0</td>\n",
       "      <td>6242.60</td>\n",
       "      <td>148.354855</td>\n",
       "      <td>6.632653</td>\n",
       "    </tr>\n",
       "    <tr>\n",
       "      <th>[10.0, 10.4)</th>\n",
       "      <td>20</td>\n",
       "      <td>0.160</td>\n",
       "      <td>123</td>\n",
       "      <td>0.984</td>\n",
       "      <td>10.2</td>\n",
       "      <td>204.0</td>\n",
       "      <td>2080.80</td>\n",
       "      <td>46.447754</td>\n",
       "      <td>1.960784</td>\n",
       "    </tr>\n",
       "    <tr>\n",
       "      <th>[10.4, 10.8)</th>\n",
       "      <td>2</td>\n",
       "      <td>0.016</td>\n",
       "      <td>125</td>\n",
       "      <td>1.000</td>\n",
       "      <td>10.6</td>\n",
       "      <td>21.2</td>\n",
       "      <td>224.72</td>\n",
       "      <td>4.721708</td>\n",
       "      <td>0.188679</td>\n",
       "    </tr>\n",
       "  </tbody>\n",
       "</table>\n",
       "</div>"
      ],
      "text/plain": [
       "              fi     pi   Fi   Fi %    pm   xifi    xi2fi      filnxi  \\\n",
       "[9.2, 9.6)    38  0.304   38  0.304   9.4  357.2  3357.68   85.146968   \n",
       "[9.6, 10.0)   65  0.520  103  0.824   9.8  637.0  6242.60  148.354855   \n",
       "[10.0, 10.4)  20  0.160  123  0.984  10.2  204.0  2080.80   46.447754   \n",
       "[10.4, 10.8)   2  0.016  125  1.000  10.6   21.2   224.72    4.721708   \n",
       "\n",
       "                 fi/xi  \n",
       "[9.2, 9.6)    4.042553  \n",
       "[9.6, 10.0)   6.632653  \n",
       "[10.0, 10.4)  1.960784  \n",
       "[10.4, 10.8)  0.188679  "
      ]
     },
     "execution_count": 10,
     "metadata": {},
     "output_type": "execute_result"
    }
   ],
   "source": [
    "serie = pd.Series(baseDados)\n",
    "\n",
    "frequencia = pd.value_counts(\n",
    "  pd.cut(\n",
    "    x = serie,\n",
    "    bins =[9.2, 9.6, 10, 10.4, 10.8],\n",
    "    include_lowest = True,\n",
    "    right=False\n",
    "  ),\n",
    "  sort = False\n",
    ")\n",
    "\n",
    "df = pd.DataFrame(frequencia)\n",
    "\n",
    "df.columns = ['fi']\n",
    "total = df['fi'].sum()\n",
    "\n",
    "df['pi'] = df['fi'] / total\n",
    "df\n",
    "\n",
    "freq_acumulada = []\n",
    "acumulada = 0 \n",
    "for frequencia in df['fi']:\n",
    "    acumulada = acumulada + frequencia\n",
    "    freq_acumulada.append(acumulada)\n",
    "\n",
    "df['Fi'] = freq_acumulada\n",
    "df['Fi %'] = df['Fi'] / total\n",
    "\n",
    "pm = [9.4, 9.8, 10.2, 10.6]\n",
    "df['pm'] = pm\n",
    "\n",
    "df['xifi'] = df['pm'] * df['fi']\n",
    "df['xi2fi'] = (df['pm'] ** 2) * df['fi']\n",
    "\n",
    "df['filnxi'] = df['fi'] * np.log(df['pm'])\n",
    "df['fi/xi'] = df['fi'] / df['pm']\n",
    "df\n",
    "\n"
   ]
  },
  {
   "cell_type": "code",
   "execution_count": 17,
   "metadata": {},
   "outputs": [
    {
     "data": {
      "text/plain": [
       "9.759426212641808"
      ]
     },
     "execution_count": 17,
     "metadata": {},
     "output_type": "execute_result"
    }
   ],
   "source": [
    "mediaAritmetica = df['xifi'].sum() / total\n",
    "mediaAritmetica\n",
    "\n",
    "mediaGeometrica = np.e ** (df['filnxi'].sum()/total)\n",
    "mediaGeometrica\n",
    "\n",
    "mediaHarmonica = total / df['fi/xi'].sum()\n",
    "mediaHarmonica\n",
    "\n",
    "mediaQuadratica = np.sqrt(df['xi2fi'].sum()/total)\n",
    "mediaQuadratica"
   ]
  },
  {
   "cell_type": "code",
   "execution_count": null,
   "metadata": {},
   "outputs": [],
   "source": []
  }
 ],
 "metadata": {
  "kernelspec": {
   "display_name": "Python 3 (ipykernel)",
   "language": "python",
   "name": "python3"
  },
  "language_info": {
   "codemirror_mode": {
    "name": "ipython",
    "version": 3
   },
   "file_extension": ".py",
   "mimetype": "text/x-python",
   "name": "python",
   "nbconvert_exporter": "python",
   "pygments_lexer": "ipython3",
   "version": "3.10.9"
  },
  "orig_nbformat": 4
 },
 "nbformat": 4,
 "nbformat_minor": 2
}
