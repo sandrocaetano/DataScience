{
 "cells": [
  {
   "cell_type": "code",
   "execution_count": 2,
   "metadata": {},
   "outputs": [],
   "source": [
    "import pandas as pd \n",
    "import numpy as np "
   ]
  },
  {
   "cell_type": "code",
   "execution_count": 3,
   "metadata": {},
   "outputs": [],
   "source": [
    "baseDados = [\n",
    "    9.20, 9.30, 9.40, 9.50, 9.60, 9.60, 9.70, 9.70, 9.80, 9.80,  9.90, 10.10, 10.30,\n",
    "    9.20, 9.30, 9.40, 9.50, 9.60, 9.60, 9.70, 9.70, 9.80, 9.80,  9.90, 10.10, 10.30,\n",
    "    9.20, 9.30, 9.40, 9.50, 9.60, 9.60, 9.70, 9.70, 9.80, 9.90,  9.90, 10.10, 10.30,\n",
    "    9.20, 9.40, 9.40, 9.50, 9.60, 9.60, 9.70, 9.70, 9.80, 9.90, 10.00, 10.10, 10.40,\n",
    "    9.20, 9.40, 9.40, 9.50, 9.60, 9.60, 9.70, 9.70, 9.80, 9.90, 10.00, 10.20, 10.40,\n",
    "    9.30, 9.40, 9.50, 9.50, 9.60, 9.60, 9.70, 9.70, 9.80, 9.90, 10.00, 10.20,\n",
    "    9.30, 9.40, 9.50, 9.50, 9.60, 9.60, 9.70, 9.80, 9.80, 9.90, 10.00, 10.20,\n",
    "    9.30, 9.40, 9.50, 9.50, 9.60, 9.70, 9.70, 9.80, 9.80, 9.90, 10.00, 10.20,\n",
    "    9.30, 9.40, 9.50, 9.60, 9.60, 9.70, 9.70, 9.80, 9.80, 9.90, 10.00, 10.20,\n",
    "    9.30, 9.40, 9.50, 9.60, 9.60, 9.70, 9.70, 9.80, 9.80, 9.90, 10.00, 10.30,\n",
    "]"
   ]
  },
  {
   "cell_type": "code",
   "execution_count": 10,
   "metadata": {},
   "outputs": [
    {
     "data": {
      "text/html": [
       "<div>\n",
       "<style scoped>\n",
       "    .dataframe tbody tr th:only-of-type {\n",
       "        vertical-align: middle;\n",
       "    }\n",
       "\n",
       "    .dataframe tbody tr th {\n",
       "        vertical-align: top;\n",
       "    }\n",
       "\n",
       "    .dataframe thead th {\n",
       "        text-align: right;\n",
       "    }\n",
       "</style>\n",
       "<table border=\"1\" class=\"dataframe\">\n",
       "  <thead>\n",
       "    <tr style=\"text-align: right;\">\n",
       "      <th></th>\n",
       "      <th>fi</th>\n",
       "      <th>pi</th>\n",
       "      <th>Fi</th>\n",
       "      <th>Fi %</th>\n",
       "    </tr>\n",
       "  </thead>\n",
       "  <tbody>\n",
       "    <tr>\n",
       "      <th>(9.199, 9.5]</th>\n",
       "      <td>38</td>\n",
       "      <td>0.304</td>\n",
       "      <td>38</td>\n",
       "      <td>0.304</td>\n",
       "    </tr>\n",
       "    <tr>\n",
       "      <th>(9.5, 9.8]</th>\n",
       "      <td>54</td>\n",
       "      <td>0.432</td>\n",
       "      <td>92</td>\n",
       "      <td>0.736</td>\n",
       "    </tr>\n",
       "    <tr>\n",
       "      <th>(9.8, 10.1]</th>\n",
       "      <td>22</td>\n",
       "      <td>0.176</td>\n",
       "      <td>114</td>\n",
       "      <td>0.912</td>\n",
       "    </tr>\n",
       "    <tr>\n",
       "      <th>(10.1, 10.4]</th>\n",
       "      <td>11</td>\n",
       "      <td>0.088</td>\n",
       "      <td>125</td>\n",
       "      <td>1.000</td>\n",
       "    </tr>\n",
       "  </tbody>\n",
       "</table>\n",
       "</div>"
      ],
      "text/plain": [
       "              fi     pi   Fi   Fi %\n",
       "(9.199, 9.5]  38  0.304   38  0.304\n",
       "(9.5, 9.8]    54  0.432   92  0.736\n",
       "(9.8, 10.1]   22  0.176  114  0.912\n",
       "(10.1, 10.4]  11  0.088  125  1.000"
      ]
     },
     "execution_count": 10,
     "metadata": {},
     "output_type": "execute_result"
    }
   ],
   "source": [
    "serie = pd.Series(baseDados)\n",
    "\n",
    "frequencia = pd.value_counts(\n",
    "  pd.cut(\n",
    "    x = serie,\n",
    "    bins = 4,\n",
    "    include_lowest = False\n",
    "  ),\n",
    "  sort = False\n",
    ")\n",
    "\n",
    "df = pd.DataFrame(frequencia)\n",
    "\n",
    "df.columns = ['fi']\n",
    "total = df['fi'].sum()\n",
    "\n",
    "df['pi'] = df['fi'] / total\n",
    "df\n",
    "\n",
    "freq_acumulada = []\n",
    "acumulada = 0 \n",
    "for frequencia in df['fi']:\n",
    "    acumulada = acumulada + frequencia\n",
    "    freq_acumulada.append(acumulada)\n",
    "\n",
    "df['Fi'] = freq_acumulada\n",
    "df['Fi %'] = df['Fi'] / total\n",
    "df\n"
   ]
  }
 ],
 "metadata": {
  "kernelspec": {
   "display_name": "Python 3 (ipykernel)",
   "language": "python",
   "name": "python3"
  },
  "language_info": {
   "codemirror_mode": {
    "name": "ipython",
    "version": 3
   },
   "file_extension": ".py",
   "mimetype": "text/x-python",
   "name": "python",
   "nbconvert_exporter": "python",
   "pygments_lexer": "ipython3",
   "version": "3.10.9"
  },
  "orig_nbformat": 4
 },
 "nbformat": 4,
 "nbformat_minor": 2
}
